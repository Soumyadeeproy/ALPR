{
 "cells": [
  {
   "cell_type": "markdown",
   "metadata": {
    "colab_type": "text",
    "id": "koQ0t3yTBPAg"
   },
   "source": [
    "# DATASET\n",
    "\n"
   ]
  },
  {
   "cell_type": "markdown",
   "metadata": {
    "colab_type": "text",
    "id": "Ikp82jvGpDK4"
   },
   "source": [
    "## PART 1 : MODIFIED VGG 16"
   ]
  },
  {
   "cell_type": "code",
   "execution_count": 1,
   "metadata": {
    "colab": {
     "base_uri": "https://localhost:8080/",
     "height": 106
    },
    "colab_type": "code",
    "id": "Si9g06HzCJO_",
    "outputId": "5a20e81d-ad92-4a0c-f273-983e25d934ad"
   },
   "outputs": [
    {
     "name": "stderr",
     "output_type": "stream",
     "text": [
      "/home/soumyadeep/anaconda2/lib/python2.7/site-packages/h5py/__init__.py:36: FutureWarning: Conversion of the second argument of issubdtype from `float` to `np.floating` is deprecated. In future, it will be treated as `np.float64 == np.dtype(float).type`.\n",
      "  from ._conv import register_converters as _register_converters\n",
      "Using TensorFlow backend.\n"
     ]
    }
   ],
   "source": [
    "from keras.applications.vgg16 import VGG16\n",
    "from keras.models import Model\n",
    "\n",
    "full_model = VGG16(weights='imagenet', input_shape=(None, None, 3), include_top=False)"
   ]
  },
  {
   "cell_type": "code",
   "execution_count": 2,
   "metadata": {
    "colab": {},
    "colab_type": "code",
    "id": "xGdd_0WZoF2e"
   },
   "outputs": [],
   "source": [
    "layers = [ l for l in full_model.layers]"
   ]
  },
  {
   "cell_type": "code",
   "execution_count": 3,
   "metadata": {
    "colab": {},
    "colab_type": "code",
    "id": "UL_6E6vRphBu"
   },
   "outputs": [],
   "source": [
    "from keras.layers import Input\n",
    "\n",
    "x = layers[0].output\n",
    "to_avoid = [3, 6, 10, 19, 20, 21]\n",
    "for i in range(1, len(layers)):\n",
    "  if ( i in to_avoid ):\n",
    "    continue\n",
    "  layers[i].trainable = False\n",
    "  x = layers[i](x)\n",
    "\n",
    "model = Model(inputs = [layers[0].input], outputs = [x])"
   ]
  },
  {
   "cell_type": "code",
   "execution_count": null,
   "metadata": {
    "colab": {
     "base_uri": "https://localhost:8080/",
     "height": 694
    },
    "colab_type": "code",
    "id": "Rt_0-r4nDKPE",
    "outputId": "0cca9801-f247-4669-d870-5c38fcadfc8a"
   },
   "outputs": [
    {
     "name": "stdout",
     "output_type": "stream",
     "text": [
      "_________________________________________________________________\n",
      "Layer (type)                 Output Shape              Param #   \n",
      "=================================================================\n",
      "input_1 (InputLayer)         (None, None, None, 3)     0         \n",
      "_________________________________________________________________\n",
      "block1_conv1 (Conv2D)        (None, None, None, 64)    1792      \n",
      "_________________________________________________________________\n",
      "block1_conv2 (Conv2D)        (None, None, None, 64)    36928     \n",
      "_________________________________________________________________\n",
      "block2_conv1 (Conv2D)        (None, None, None, 128)   73856     \n",
      "_________________________________________________________________\n",
      "block2_conv2 (Conv2D)        (None, None, None, 128)   147584    \n",
      "_________________________________________________________________\n",
      "block3_conv1 (Conv2D)        (None, None, None, 256)   295168    \n",
      "_________________________________________________________________\n",
      "block3_conv2 (Conv2D)        (None, None, None, 256)   590080    \n",
      "_________________________________________________________________\n",
      "block3_conv3 (Conv2D)        (None, None, None, 256)   590080    \n",
      "_________________________________________________________________\n",
      "block4_conv1 (Conv2D)        (None, None, None, 512)   1180160   \n",
      "_________________________________________________________________\n",
      "block4_conv2 (Conv2D)        (None, None, None, 512)   2359808   \n",
      "_________________________________________________________________\n",
      "block4_conv3 (Conv2D)        (None, None, None, 512)   2359808   \n",
      "_________________________________________________________________\n",
      "block4_pool (MaxPooling2D)   (None, None, None, 512)   0         \n",
      "_________________________________________________________________\n",
      "block5_conv1 (Conv2D)        (None, None, None, 512)   2359808   \n",
      "_________________________________________________________________\n",
      "block5_conv2 (Conv2D)        (None, None, None, 512)   2359808   \n",
      "_________________________________________________________________\n",
      "block5_conv3 (Conv2D)        (None, None, None, 512)   2359808   \n",
      "_________________________________________________________________\n",
      "block5_pool (MaxPooling2D)   (None, None, None, 512)   0         \n",
      "=================================================================\n",
      "Total params: 14,714,688\n",
      "Trainable params: 0\n",
      "Non-trainable params: 14,714,688\n",
      "_________________________________________________________________\n"
     ]
    }
   ],
   "source": [
    "model.summary()"
   ]
  },
  {
   "cell_type": "markdown",
   "metadata": {
    "colab_type": "text",
    "id": "6vBtdc1XWgkP"
   },
   "source": [
    "## PART 2 : STORING ANCHORS"
   ]
  },
  {
   "cell_type": "code",
   "execution_count": null,
   "metadata": {
    "colab": {
     "base_uri": "https://localhost:8080/",
     "height": 89
    },
    "colab_type": "code",
    "id": "G2pRb7b93kxu",
    "outputId": "9c196254-1aa1-4174-91c3-07a000235963"
   },
   "outputs": [
    {
     "name": "stdout",
     "output_type": "stream",
     "text": [
      "('image_0032.jpg', 'already done')\n",
      "('Processing', 'image_0064.jpg', (1, 592, 896, 3))\n",
      "((1, 148, 224, 512), 'Time taken', 182.2580418586731)\n",
      "('Processing', 'image_0045.jpg', (1, 592, 896, 3))\n",
      "((1, 148, 224, 512), 'Time taken', 195.27102994918823)\n",
      "('Processing', 'image_0008.jpg', (1, 592, 896, 3))\n",
      "((1, 148, 224, 512), 'Time taken', 194.7918300628662)\n",
      "('Processing', 'image_0010.jpg', (1, 592, 896, 3))\n",
      "((1, 148, 224, 512), 'Time taken', 196.55434608459473)\n",
      "('Processing', 'image_0040.jpg', (1, 592, 896, 3))\n",
      "((1, 148, 224, 512), 'Time taken', 189.1434190273285)\n",
      "('Processing', 'image_0061.jpg', (1, 592, 896, 3))\n",
      "((1, 148, 224, 512), 'Time taken', 208.40408301353455)\n",
      "('Processing', 'image_0093.jpg', (1, 592, 896, 3))\n"
     ]
    }
   ],
   "source": [
    "import os\n",
    "import cv2\n",
    "import numpy as np\n",
    "import time\n",
    "import h5py\n",
    "\n",
    "anchors = [(12,12,2,2),(19,20,3,4),(22,22,5,5),(34,35,6,7),(42,42,8,8),(49,50,9,10)]\n",
    "\n",
    "dataset_folder = 'DATASET'\n",
    "feature_folder = 'FEATURE_MAPS'\n",
    "\n",
    "for im in os.listdir(dataset_folder):\n",
    "    if 'image_' in im:\n",
    "        output_name = os.path.join(feature_folder, 'feature_' + im.split('.')[0].split('_')[1] + '.hd5py')\n",
    "        if os.path.isfile(output_name):\n",
    "            print(im, 'already done')\n",
    "            continue\n",
    "        image = cv2.imread(os.path.join(dataset_folder, im))\n",
    "        image = image.reshape(1, *image.shape)\n",
    "        print('Processing', im, image.shape)\n",
    "        start = time.time()\n",
    "        result = model.predict(image)\n",
    "        end = time.time()\n",
    "        print(result.shape, \"Time taken\", end-start)\n",
    "        with h5py.File(output_name, 'w') as f:\n",
    "            f.create_dataset(\"default\", data=result)"
   ]
  }
 ],
 "metadata": {
  "colab": {
   "collapsed_sections": [],
   "name": "END2END2.ipynb",
   "provenance": [],
   "toc_visible": true,
   "version": "0.3.2"
  },
  "kernelspec": {
   "display_name": "Python 3",
   "language": "python",
   "name": "python3"
  },
  "language_info": {
   "codemirror_mode": {
    "name": "ipython",
    "version": 2
   },
   "file_extension": ".py",
   "mimetype": "text/x-python",
   "name": "python",
   "nbconvert_exporter": "python",
   "pygments_lexer": "ipython2",
   "version": "2.7.14"
  }
 },
 "nbformat": 4,
 "nbformat_minor": 2
}
