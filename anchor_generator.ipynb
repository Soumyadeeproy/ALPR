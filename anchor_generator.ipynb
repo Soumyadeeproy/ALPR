{
 "cells": [
  {
   "cell_type": "markdown",
   "metadata": {
    "colab_type": "text",
    "id": "koQ0t3yTBPAg"
   },
   "source": [
    "# DATASET\n",
    "\n"
   ]
  },
  {
   "cell_type": "markdown",
   "metadata": {
    "colab_type": "text",
    "id": "Ikp82jvGpDK4"
   },
   "source": [
    "## PART 1 : MODIFIED VGG 16"
   ]
  },
  {
   "cell_type": "code",
   "execution_count": null,
   "metadata": {
    "colab": {
     "base_uri": "https://localhost:8080/",
     "height": 106
    },
    "colab_type": "code",
    "id": "Si9g06HzCJO_",
    "outputId": "5a20e81d-ad92-4a0c-f273-983e25d934ad"
   },
   "outputs": [],
   "source": [
    "from keras.applications.vgg16 import VGG16\n",
    "from keras.models import Model\n",
    "\n",
    "full_model = VGG16(weights='imagenet', input_shape=(None, None, 3), include_top=False)"
   ]
  },
  {
   "cell_type": "code",
   "execution_count": null,
   "metadata": {
    "colab": {},
    "colab_type": "code",
    "id": "xGdd_0WZoF2e"
   },
   "outputs": [],
   "source": [
    "layers = [ l for l in full_model.layers]"
   ]
  },
  {
   "cell_type": "code",
   "execution_count": null,
   "metadata": {
    "colab": {},
    "colab_type": "code",
    "id": "UL_6E6vRphBu"
   },
   "outputs": [],
   "source": [
    "from keras.layers import Input\n",
    "\n",
    "x = layers[0].output\n",
    "to_avoid = [3, 6, 10, 19, 20, 21]\n",
    "for i in range(1, len(layers)):\n",
    "  if ( i in to_avoid ):\n",
    "    continue\n",
    "  layers[i].trainable = False\n",
    "  x = layers[i](x)\n",
    "\n",
    "model = Model(inputs = [layers[0].input], outputs = [x])"
   ]
  },
  {
   "cell_type": "code",
   "execution_count": null,
   "metadata": {
    "colab": {
     "base_uri": "https://localhost:8080/",
     "height": 694
    },
    "colab_type": "code",
    "id": "Rt_0-r4nDKPE",
    "outputId": "0cca9801-f247-4669-d870-5c38fcadfc8a"
   },
   "outputs": [],
   "source": [
    "model.summary()"
   ]
  },
  {
   "cell_type": "markdown",
   "metadata": {
    "colab_type": "text",
    "id": "6vBtdc1XWgkP"
   },
   "source": [
    "## PART 2 : STORING ANCHORS"
   ]
  },
  {
   "cell_type": "code",
   "execution_count": null,
   "metadata": {
    "colab": {
     "base_uri": "https://localhost:8080/",
     "height": 89
    },
    "colab_type": "code",
    "id": "G2pRb7b93kxu",
    "outputId": "9c196254-1aa1-4174-91c3-07a000235963"
   },
   "outputs": [],
   "source": [
    "import os\n",
    "import cv2\n",
    "import numpy as np\n",
    "import time\n",
    "import h5py\n",
    "\n",
    "anchors = [(12,12,2,2),(19,20,3,4),(22,22,5,5),(34,35,6,7),(42,42,8,8),(49,50,9,10)]\n",
    "\n",
    "dataset_folder = 'DATASET'\n",
    "feature_folder = 'FEATURE_MAPS'\n",
    "\n",
    "for im in os.listdir(dataset_folder):\n",
    "    if 'image_' in im:\n",
    "        output_name = os.path.join(feature_folder, 'feature_' + im.split('.')[0].split('_')[1] + '.hd5py')\n",
    "        if os.path.isfile(output_name):\n",
    "            continue\n",
    "        image = cv2.imread(os.path.join(dataset_folder, im))\n",
    "        image = image.reshape(1, *image.shape)\n",
    "        print(image.shape)\n",
    "        start = time.time()\n",
    "        result = model.predict(image)\n",
    "        end = time.time()\n",
    "        print(result.shape, \"Time taken\", end-start)\n",
    "        with h5py.File(output_name), 'w') as f:\n",
    "            f.create_dataset(\"default\", data=result)"
   ]
  }
 ],
 "metadata": {
  "colab": {
   "collapsed_sections": [],
   "name": "END2END2.ipynb",
   "provenance": [],
   "toc_visible": true,
   "version": "0.3.2"
  },
  "kernelspec": {
   "display_name": "Python 3",
   "language": "python",
   "name": "python3"
  },
  "language_info": {
   "codemirror_mode": {
    "name": "ipython",
    "version": 2
   },
   "file_extension": ".py",
   "mimetype": "text/x-python",
   "name": "python",
   "nbconvert_exporter": "python",
   "pygments_lexer": "ipython2",
   "version": "2.7.14"
  }
 },
 "nbformat": 4,
 "nbformat_minor": 2
}
