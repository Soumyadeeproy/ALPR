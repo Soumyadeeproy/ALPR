{
 "cells": [
  {
   "cell_type": "markdown",
   "metadata": {},
   "source": [
    "## PART 2 : STORING ANCHORS"
   ]
  },
  {
   "cell_type": "code",
   "execution_count": 3,
   "metadata": {},
   "outputs": [
    {
     "name": "stderr",
     "output_type": "stream",
     "text": [
      "100%|██████████| 126/126 [1:04:47<00:00, 30.53s/it]\n"
     ]
    }
   ],
   "source": [
    "import os\n",
    "import h5py \n",
    "import numpy as np\n",
    "from tqdm import tqdm\n",
    "\n",
    "anchors = [(12,12,2,2),(19,20,3,4),(22,22,5,5),(34,35,6,7),(42,42,8,8),(49,50,9,10)]\n",
    "\n",
    "feature_folder = 'FEATURE_MAPS'\n",
    "anchor_folder = 'ANCHORS'\n",
    "\n",
    "for fm in tqdm(os.listdir(feature_folder)):\n",
    "    feature_map = h5py.File(feature_folder+\"/\"+fm,'r+')\n",
    "    feature_map = np.array(feature_map.get('default'))\n",
    "    [ n , n_i, n_j, n_k ] = feature_map.shape\n",
    "    \n",
    "    cnt = 1    \n",
    "    \n",
    "    for w_l, w_r, h_l, h_r in anchors:\n",
    "        for i in range( h_l, n_i-h_r, 10):\n",
    "            for j in range( w_l, n_j-w_r, 10):\n",
    "                top_left_x = i - h_l\n",
    "                top_left_y = j - w_l\n",
    "                bottom_right_x = i + h_r\n",
    "                bottom_right_y = j + w_r\n",
    "                \n",
    "                output_name = anchor_folder+'/'+fm.split('.')[0]+'_anchor_'+str(cnt)+'.h5'\n",
    "                if os.path.isfile(output_name):\n",
    "                    continue\n",
    "                with h5py.File(output_name,'w') as hf:\n",
    "                    anchor = feature_map[ :, top_left_x : bottom_right_x, top_left_y : bottom_right_y, :]                \n",
    "                    hf.create_dataset('anchor_'+str(cnt), data=anchor, compression=\"gzip\")\n",
    "                    cnt += 1\n",
    "                "
   ]
  }
 ],
 "metadata": {
  "colab": {
   "collapsed_sections": [],
   "name": "END2END2.ipynb",
   "provenance": [],
   "toc_visible": true,
   "version": "0.3.2"
  },
  "kernelspec": {
   "display_name": "Python 3",
   "language": "python",
   "name": "python3"
  },
  "language_info": {
   "codemirror_mode": {
    "name": "ipython",
    "version": 2
   },
   "file_extension": ".py",
   "mimetype": "text/x-python",
   "name": "python",
   "nbconvert_exporter": "python",
   "pygments_lexer": "ipython2",
   "version": "2.7.14"
  }
 },
 "nbformat": 4,
 "nbformat_minor": 2
}
