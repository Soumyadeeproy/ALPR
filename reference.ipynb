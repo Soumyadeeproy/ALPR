{
 "cells": [
  {
   "cell_type": "code",
   "execution_count": null,
   "metadata": {
    "colab": {},
    "colab_type": "code",
    "id": "hGfQqpbAV7jo"
   },
   "outputs": [],
   "source": [
    "import numpy as np\n",
    "import csv\n",
    "from keras import optimizers\n",
    "from keras.models import Model\n",
    "from keras.models import Sequential\n",
    "from keras.layers import Dense, Dropout, Activation, Input, Flatten, concatenate\n",
    "from keras.layers import Convolution3D, MaxPooling3D, Convolution2D, MaxPooling2D, BatchNormalization,UpSampling2D\n",
    "from keras.utils import np_utils\n",
    "from keras.optimizers import Adam\n",
    "import random\n",
    "import os\n",
    "import cv2\n",
    "import tensorflow as tf\n",
    "from keras.layers import Lambda"
   ]
  },
  {
   "cell_type": "code",
   "execution_count": null,
   "metadata": {
    "colab": {},
    "colab_type": "code",
    "id": "Re1iQf_yacGm"
   },
   "outputs": [],
   "source": [
    "# PART 2 : FUNCTION\n",
    "\n",
    "def part_2 (_anchor):\n",
    "  \n",
    "  first_convolution = Convolution2D(256, (5, 3), activation='relu', padding='same')(_anchor)\n",
    "  second_convolution = Convolution2D(256, (3, 1), activation='relu', padding='same')(_anchor)\n",
    "    \n",
    "  anchor_concat = concatenate([ first_convolution, second_convolution],-1)\n",
    "  #anchor_concat = tf.keras.layers.concatenate([ first_convolution, second_convolution],axis=-1)\n",
    "  \n",
    "  return anchor_concat;"
   ]
  },
  {
   "cell_type": "code",
   "execution_count": null,
   "metadata": {
    "colab": {},
    "colab_type": "code",
    "id": "d6_5y5TFqQAt"
   },
   "outputs": [],
   "source": [
    "# PART 4 : BASE FUNCTION\n",
    "\n",
    "def part_4_base (_input4):\n",
    "  flatten_1 = Flatten()(_input4)\n",
    "  dense_1 = Dense(2048, activation='sigmoid')(flatten_1)\n",
    "  dropout_1 = Dropout(0.5)(dense_1)\n",
    "  dense_2 = Dense(2048, activation='sigmoid')(dropout_1)\n",
    "  dropout_2 = Dropout(0.5)(dense_2)\n",
    "  \n",
    "  return dropout_2;"
   ]
  },
  {
   "cell_type": "code",
   "execution_count": null,
   "metadata": {
    "colab": {},
    "colab_type": "code",
    "id": "yJ7Drm5cqvJz"
   },
   "outputs": [],
   "source": [
    "# PART 4 : PLATE CLASSFICATION FUNCTION\n",
    "\n",
    "def part_4_plate_classification (base_4):\n",
    "  plate_classification = Dense(1, activation='sigmoid')(base_4)\n",
    "  \n",
    "  return plate_classification;"
   ]
  },
  {
   "cell_type": "code",
   "execution_count": null,
   "metadata": {
    "colab": {},
    "colab_type": "code",
    "id": "IE6jjcarqvv-"
   },
   "outputs": [],
   "source": [
    "# PART 4 : PLATE REGRESSION FUNCTION\n",
    "\n",
    "def part_4_plate_regression(base_4):\n",
    "  plate_regression = Dense(4)(base_4)\n",
    "  \n",
    "  return plate_regression;"
   ]
  },
  {
   "cell_type": "code",
   "execution_count": null,
   "metadata": {
    "colab": {},
    "colab_type": "code",
    "id": "aUVvGDpKaI6u"
   },
   "outputs": [],
   "source": [
    "# PART 1 : LOW LEVEL FEATURE EXTRACTION\n",
    "\n",
    "input_shape = (1500, 700, 3)\n",
    "_input = Input(shape=input_shape)\n",
    "\n",
    "conv_1 = Convolution2D(64, (3, 3), input_shape=input_shape, padding='same', activation='relu')(_input)\n",
    "conv_2 = Convolution2D(64, (3, 3), activation='relu', padding='same')(conv_1)\n",
    "conv_3 = Convolution2D(128, (3, 3), activation='relu', padding='same')(conv_2)\n",
    "conv_4 = Convolution2D(128, (3, 3), activation='relu', padding='same')(conv_3)\n",
    "conv_5 = Convolution2D(256, (3, 3), activation='relu', padding='same')(conv_4)\n",
    "conv_6 = Convolution2D(256, (3, 3), activation='relu', padding='same')(conv_5)\n",
    "conv_7 = Convolution2D(256, (3, 3), activation='relu', padding='same')(conv_6)\n",
    "conv_8 = Convolution2D(512, (3, 3), activation='relu', padding='same')(conv_7)\n",
    "conv_9 = Convolution2D(512, (3, 3), activation='relu', padding='same')(conv_8)\n",
    "conv_10 = Convolution2D(512, (3, 3), activation='relu', padding='same')(conv_9)\n",
    "maxpool_1 = MaxPooling2D(pool_size=(2, 2), strides=(2, 2))(conv_10)\n",
    "conv_11 = Convolution2D(512, (3, 3), activation='relu', padding='same')(maxpool_1)\n",
    "conv_12 = Convolution2D(512, (3, 3), activation='relu', padding='same')(conv_11)\n",
    "conv_13 = Convolution2D(256, (3, 3), activation='relu', padding='same')(conv_12)\n",
    "maxpool_2 = MaxPooling2D(pool_size=(2, 2), strides=(2, 2))(conv_13)\n",
    "\n",
    "_output1 = maxpool_2"
   ]
  },
  {
   "cell_type": "code",
   "execution_count": null,
   "metadata": {
    "colab": {},
    "colab_type": "code",
    "id": "JKUGJ9ouMSrf"
   },
   "outputs": [],
   "source": [
    "# ANCHORS : PART 2 : PART 4\n",
    "from tqdm import tqdm\n",
    "anchors = [(12,12,2,2),(19,20,3,4),(22,22,5,5),(34,35,6,7),(42,42,8,8),(49,50,9,10)]\n",
    "output = []\n",
    "\n",
    "for w_l, w_r, h_l, h_r in anchors:\n",
    "  for i in tqdm(range( w_l, 375-w_r, 10)):\n",
    "    for j in range( h_l, 175-h_r, 10):\n",
    "      \n",
    "      anchor = _output1[:,i-w_l:i+w_r,j-h_l:j+h_r,:]\n",
    "      filter_concat = part_2(anchor)\n",
    "      \n",
    "      base_4 = part_4_base(filter_concat)\n",
    "      plate_classification = part_4_plate_classification(base_4)\n",
    "      plate_regression = part_4_plate_regression(base_4)\n",
    "      \n",
    "      x = i + ( tf.reshape(plate_regression[:,0],[-1,1]) * ( (w_r*2) + 1))\n",
    "      y = j + ( tf.reshape(plate_regression[:,1],[-1,1]) * ( (h_r*2) + 1))\n",
    "      w = ((h_r*2)+1) * tf.exp(tf.reshape(plate_regression[:,2],[-1,1]))\n",
    "      h = ((h_r*2)+1) * tf.exp(tf.reshape(plate_regression[:,3],[-1,1]))\n",
    "      p = plate_classification\n",
    "      \n",
    "      result = concatenate([x,y,w,h,p])\n",
    "      \n",
    "     \n",
    "      output.append(result)"
   ]
  },
  {
   "cell_type": "code",
   "execution_count": null,
   "metadata": {
    "colab": {},
    "colab_type": "code",
    "id": "GhGofJYvhmcT"
   },
   "outputs": [],
   "source": [
    "model = Model(inputs=[_input], outputs=[output])\n",
    "model.summary()"
   ]
  },
  {
   "cell_type": "code",
   "execution_count": null,
   "metadata": {
    "colab": {},
    "colab_type": "code",
    "id": "B0IEYDKVhmT1"
   },
   "outputs": [],
   "source": [
    "from keras.utils import plot_model\n",
    "plot_model(model, to_file='model.png')"
   ]
  }
 ],
 "metadata": {
  "colab": {
   "collapsed_sections": [],
   "name": "END2END",
   "provenance": [],
   "version": "0.3.2"
  },
  "kernelspec": {
   "display_name": "Python 2",
   "language": "python",
   "name": "python2"
  },
  "language_info": {
   "codemirror_mode": {
    "name": "ipython",
    "version": 2
   },
   "file_extension": ".py",
   "mimetype": "text/x-python",
   "name": "python",
   "nbconvert_exporter": "python",
   "pygments_lexer": "ipython2",
   "version": "2.7.14"
  }
 },
 "nbformat": 4,
 "nbformat_minor": 2
}
